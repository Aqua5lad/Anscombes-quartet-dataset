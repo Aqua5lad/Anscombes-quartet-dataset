{
 "cells": [
  {
   "cell_type": "markdown",
   "metadata": {},
   "source": [
    "# An analysis of the Anscombes Quartet Dataset"
   ]
  },
  {
   "cell_type": "markdown",
   "metadata": {},
   "source": [
    "### 1. Background to the dataset\n",
    "\n",
    "#### Anscombe's quartet was constructed by the statistician Francis Anscombe in 1973 to demonstrate both the importance of graphing data before analyzing it and the effect of outliers on statistical properties. <sup>[1](https://en.wikipedia.org/wiki/Anscombe%27s_quartet)</sup>\n",
    "\n",
    "It comprises four datasets with nearly identical simple descriptive statistics, yet they appear very different when graphed. Each dataset consists of eleven (x,y) points. He described the article as being intended to counter the impression among statisticians that \"numerical calculations are exact, but graphs are rough.\" <sup>[2](https://en.wikipedia.org/wiki/Anscombe%27s_quartet)</sup>\n",
    "\n",
    "Anscombes datasets are synthetic rather than observed values, insofaras they were created by Anscombe. Quite how he created them is unknown.\n",
    "\n"
   ]
  },
  {
   "cell_type": "markdown",
   "metadata": {},
   "source": [
    "### Libraries"
   ]
  },
  {
   "cell_type": "code",
   "execution_count": 1,
   "metadata": {},
   "outputs": [],
   "source": [
    "# lets have matplotlib show interactive plots in the notebook\n",
    "%matplotlib inline"
   ]
  },
  {
   "cell_type": "code",
   "execution_count": 2,
   "metadata": {},
   "outputs": [],
   "source": [
    "import numpy as np\n",
    "import pandas as pd\n",
    "import matplotlib.pyplot as plt\n"
   ]
  },
  {
   "cell_type": "markdown",
   "metadata": {},
   "source": [
    "### Data"
   ]
  },
  {
   "cell_type": "code",
   "execution_count": 3,
   "metadata": {},
   "outputs": [],
   "source": [
    "# Load Anscombes datasets from a URL.\n",
    "df = pd.read_csv (\"https://vincentarelbundock.github.io/Rdatasets/csv/datasets/anscombe.csv\") "
   ]
  },
  {
   "cell_type": "code",
   "execution_count": 4,
   "metadata": {},
   "outputs": [
    {
     "data": {
      "text/html": [
       "<div>\n",
       "<style scoped>\n",
       "    .dataframe tbody tr th:only-of-type {\n",
       "        vertical-align: middle;\n",
       "    }\n",
       "\n",
       "    .dataframe tbody tr th {\n",
       "        vertical-align: top;\n",
       "    }\n",
       "\n",
       "    .dataframe thead th {\n",
       "        text-align: right;\n",
       "    }\n",
       "</style>\n",
       "<table border=\"1\" class=\"dataframe\">\n",
       "  <thead>\n",
       "    <tr style=\"text-align: right;\">\n",
       "      <th></th>\n",
       "      <th>Unnamed: 0</th>\n",
       "      <th>x1</th>\n",
       "      <th>x2</th>\n",
       "      <th>x3</th>\n",
       "      <th>x4</th>\n",
       "      <th>y1</th>\n",
       "      <th>y2</th>\n",
       "      <th>y3</th>\n",
       "      <th>y4</th>\n",
       "    </tr>\n",
       "  </thead>\n",
       "  <tbody>\n",
       "    <tr>\n",
       "      <th>0</th>\n",
       "      <td>1</td>\n",
       "      <td>10</td>\n",
       "      <td>10</td>\n",
       "      <td>10</td>\n",
       "      <td>8</td>\n",
       "      <td>8.04</td>\n",
       "      <td>9.14</td>\n",
       "      <td>7.46</td>\n",
       "      <td>6.58</td>\n",
       "    </tr>\n",
       "    <tr>\n",
       "      <th>1</th>\n",
       "      <td>2</td>\n",
       "      <td>8</td>\n",
       "      <td>8</td>\n",
       "      <td>8</td>\n",
       "      <td>8</td>\n",
       "      <td>6.95</td>\n",
       "      <td>8.14</td>\n",
       "      <td>6.77</td>\n",
       "      <td>5.76</td>\n",
       "    </tr>\n",
       "    <tr>\n",
       "      <th>2</th>\n",
       "      <td>3</td>\n",
       "      <td>13</td>\n",
       "      <td>13</td>\n",
       "      <td>13</td>\n",
       "      <td>8</td>\n",
       "      <td>7.58</td>\n",
       "      <td>8.74</td>\n",
       "      <td>12.74</td>\n",
       "      <td>7.71</td>\n",
       "    </tr>\n",
       "    <tr>\n",
       "      <th>3</th>\n",
       "      <td>4</td>\n",
       "      <td>9</td>\n",
       "      <td>9</td>\n",
       "      <td>9</td>\n",
       "      <td>8</td>\n",
       "      <td>8.81</td>\n",
       "      <td>8.77</td>\n",
       "      <td>7.11</td>\n",
       "      <td>8.84</td>\n",
       "    </tr>\n",
       "    <tr>\n",
       "      <th>4</th>\n",
       "      <td>5</td>\n",
       "      <td>11</td>\n",
       "      <td>11</td>\n",
       "      <td>11</td>\n",
       "      <td>8</td>\n",
       "      <td>8.33</td>\n",
       "      <td>9.26</td>\n",
       "      <td>7.81</td>\n",
       "      <td>8.47</td>\n",
       "    </tr>\n",
       "    <tr>\n",
       "      <th>5</th>\n",
       "      <td>6</td>\n",
       "      <td>14</td>\n",
       "      <td>14</td>\n",
       "      <td>14</td>\n",
       "      <td>8</td>\n",
       "      <td>9.96</td>\n",
       "      <td>8.10</td>\n",
       "      <td>8.84</td>\n",
       "      <td>7.04</td>\n",
       "    </tr>\n",
       "    <tr>\n",
       "      <th>6</th>\n",
       "      <td>7</td>\n",
       "      <td>6</td>\n",
       "      <td>6</td>\n",
       "      <td>6</td>\n",
       "      <td>8</td>\n",
       "      <td>7.24</td>\n",
       "      <td>6.13</td>\n",
       "      <td>6.08</td>\n",
       "      <td>5.25</td>\n",
       "    </tr>\n",
       "    <tr>\n",
       "      <th>7</th>\n",
       "      <td>8</td>\n",
       "      <td>4</td>\n",
       "      <td>4</td>\n",
       "      <td>4</td>\n",
       "      <td>19</td>\n",
       "      <td>4.26</td>\n",
       "      <td>3.10</td>\n",
       "      <td>5.39</td>\n",
       "      <td>12.50</td>\n",
       "    </tr>\n",
       "    <tr>\n",
       "      <th>8</th>\n",
       "      <td>9</td>\n",
       "      <td>12</td>\n",
       "      <td>12</td>\n",
       "      <td>12</td>\n",
       "      <td>8</td>\n",
       "      <td>10.84</td>\n",
       "      <td>9.13</td>\n",
       "      <td>8.15</td>\n",
       "      <td>5.56</td>\n",
       "    </tr>\n",
       "    <tr>\n",
       "      <th>9</th>\n",
       "      <td>10</td>\n",
       "      <td>7</td>\n",
       "      <td>7</td>\n",
       "      <td>7</td>\n",
       "      <td>8</td>\n",
       "      <td>4.82</td>\n",
       "      <td>7.26</td>\n",
       "      <td>6.42</td>\n",
       "      <td>7.91</td>\n",
       "    </tr>\n",
       "    <tr>\n",
       "      <th>10</th>\n",
       "      <td>11</td>\n",
       "      <td>5</td>\n",
       "      <td>5</td>\n",
       "      <td>5</td>\n",
       "      <td>8</td>\n",
       "      <td>5.68</td>\n",
       "      <td>4.74</td>\n",
       "      <td>5.73</td>\n",
       "      <td>6.89</td>\n",
       "    </tr>\n",
       "  </tbody>\n",
       "</table>\n",
       "</div>"
      ],
      "text/plain": [
       "    Unnamed: 0  x1  x2  x3  x4     y1    y2     y3     y4\n",
       "0            1  10  10  10   8   8.04  9.14   7.46   6.58\n",
       "1            2   8   8   8   8   6.95  8.14   6.77   5.76\n",
       "2            3  13  13  13   8   7.58  8.74  12.74   7.71\n",
       "3            4   9   9   9   8   8.81  8.77   7.11   8.84\n",
       "4            5  11  11  11   8   8.33  9.26   7.81   8.47\n",
       "5            6  14  14  14   8   9.96  8.10   8.84   7.04\n",
       "6            7   6   6   6   8   7.24  6.13   6.08   5.25\n",
       "7            8   4   4   4  19   4.26  3.10   5.39  12.50\n",
       "8            9  12  12  12   8  10.84  9.13   8.15   5.56\n",
       "9           10   7   7   7   8   4.82  7.26   6.42   7.91\n",
       "10          11   5   5   5   8   5.68  4.74   5.73   6.89"
      ]
     },
     "execution_count": 4,
     "metadata": {},
     "output_type": "execute_result"
    }
   ],
   "source": [
    "df"
   ]
  },
  {
   "cell_type": "code",
   "execution_count": 5,
   "metadata": {},
   "outputs": [
    {
     "data": {
      "text/html": [
       "<div>\n",
       "<style scoped>\n",
       "    .dataframe tbody tr th:only-of-type {\n",
       "        vertical-align: middle;\n",
       "    }\n",
       "\n",
       "    .dataframe tbody tr th {\n",
       "        vertical-align: top;\n",
       "    }\n",
       "\n",
       "    .dataframe thead th {\n",
       "        text-align: right;\n",
       "    }\n",
       "</style>\n",
       "<table border=\"1\" class=\"dataframe\">\n",
       "  <thead>\n",
       "    <tr style=\"text-align: right;\">\n",
       "      <th></th>\n",
       "      <th>x1</th>\n",
       "      <th>y1</th>\n",
       "    </tr>\n",
       "  </thead>\n",
       "  <tbody>\n",
       "    <tr>\n",
       "      <th>0</th>\n",
       "      <td>10</td>\n",
       "      <td>8.04</td>\n",
       "    </tr>\n",
       "    <tr>\n",
       "      <th>1</th>\n",
       "      <td>8</td>\n",
       "      <td>6.95</td>\n",
       "    </tr>\n",
       "    <tr>\n",
       "      <th>2</th>\n",
       "      <td>13</td>\n",
       "      <td>7.58</td>\n",
       "    </tr>\n",
       "    <tr>\n",
       "      <th>3</th>\n",
       "      <td>9</td>\n",
       "      <td>8.81</td>\n",
       "    </tr>\n",
       "    <tr>\n",
       "      <th>4</th>\n",
       "      <td>11</td>\n",
       "      <td>8.33</td>\n",
       "    </tr>\n",
       "    <tr>\n",
       "      <th>5</th>\n",
       "      <td>14</td>\n",
       "      <td>9.96</td>\n",
       "    </tr>\n",
       "    <tr>\n",
       "      <th>6</th>\n",
       "      <td>6</td>\n",
       "      <td>7.24</td>\n",
       "    </tr>\n",
       "    <tr>\n",
       "      <th>7</th>\n",
       "      <td>4</td>\n",
       "      <td>4.26</td>\n",
       "    </tr>\n",
       "    <tr>\n",
       "      <th>8</th>\n",
       "      <td>12</td>\n",
       "      <td>10.84</td>\n",
       "    </tr>\n",
       "    <tr>\n",
       "      <th>9</th>\n",
       "      <td>7</td>\n",
       "      <td>4.82</td>\n",
       "    </tr>\n",
       "    <tr>\n",
       "      <th>10</th>\n",
       "      <td>5</td>\n",
       "      <td>5.68</td>\n",
       "    </tr>\n",
       "  </tbody>\n",
       "</table>\n",
       "</div>"
      ],
      "text/plain": [
       "    x1     y1\n",
       "0   10   8.04\n",
       "1    8   6.95\n",
       "2   13   7.58\n",
       "3    9   8.81\n",
       "4   11   8.33\n",
       "5   14   9.96\n",
       "6    6   7.24\n",
       "7    4   4.26\n",
       "8   12  10.84\n",
       "9    7   4.82\n",
       "10   5   5.68"
      ]
     },
     "execution_count": 5,
     "metadata": {},
     "output_type": "execute_result"
    }
   ],
   "source": [
    "# plot selected cells of the dataset (but this notation approach is risky)\n",
    "e = df[['x1', 'y1']]\n",
    "e"
   ]
  },
  {
   "cell_type": "markdown",
   "metadata": {},
   "source": [
    "Lets try it using the loc and iloc commands ... show rows 4 to 7 inclusive:"
   ]
  },
  {
   "cell_type": "code",
   "execution_count": 6,
   "metadata": {},
   "outputs": [
    {
     "data": {
      "text/html": [
       "<div>\n",
       "<style scoped>\n",
       "    .dataframe tbody tr th:only-of-type {\n",
       "        vertical-align: middle;\n",
       "    }\n",
       "\n",
       "    .dataframe tbody tr th {\n",
       "        vertical-align: top;\n",
       "    }\n",
       "\n",
       "    .dataframe thead th {\n",
       "        text-align: right;\n",
       "    }\n",
       "</style>\n",
       "<table border=\"1\" class=\"dataframe\">\n",
       "  <thead>\n",
       "    <tr style=\"text-align: right;\">\n",
       "      <th></th>\n",
       "      <th>Unnamed: 0</th>\n",
       "      <th>x1</th>\n",
       "      <th>x2</th>\n",
       "      <th>x3</th>\n",
       "      <th>x4</th>\n",
       "      <th>y1</th>\n",
       "      <th>y2</th>\n",
       "      <th>y3</th>\n",
       "      <th>y4</th>\n",
       "    </tr>\n",
       "  </thead>\n",
       "  <tbody>\n",
       "    <tr>\n",
       "      <th>4</th>\n",
       "      <td>5</td>\n",
       "      <td>11</td>\n",
       "      <td>11</td>\n",
       "      <td>11</td>\n",
       "      <td>8</td>\n",
       "      <td>8.33</td>\n",
       "      <td>9.26</td>\n",
       "      <td>7.81</td>\n",
       "      <td>8.47</td>\n",
       "    </tr>\n",
       "    <tr>\n",
       "      <th>5</th>\n",
       "      <td>6</td>\n",
       "      <td>14</td>\n",
       "      <td>14</td>\n",
       "      <td>14</td>\n",
       "      <td>8</td>\n",
       "      <td>9.96</td>\n",
       "      <td>8.10</td>\n",
       "      <td>8.84</td>\n",
       "      <td>7.04</td>\n",
       "    </tr>\n",
       "    <tr>\n",
       "      <th>6</th>\n",
       "      <td>7</td>\n",
       "      <td>6</td>\n",
       "      <td>6</td>\n",
       "      <td>6</td>\n",
       "      <td>8</td>\n",
       "      <td>7.24</td>\n",
       "      <td>6.13</td>\n",
       "      <td>6.08</td>\n",
       "      <td>5.25</td>\n",
       "    </tr>\n",
       "    <tr>\n",
       "      <th>7</th>\n",
       "      <td>8</td>\n",
       "      <td>4</td>\n",
       "      <td>4</td>\n",
       "      <td>4</td>\n",
       "      <td>19</td>\n",
       "      <td>4.26</td>\n",
       "      <td>3.10</td>\n",
       "      <td>5.39</td>\n",
       "      <td>12.50</td>\n",
       "    </tr>\n",
       "  </tbody>\n",
       "</table>\n",
       "</div>"
      ],
      "text/plain": [
       "   Unnamed: 0  x1  x2  x3  x4    y1    y2    y3     y4\n",
       "4           5  11  11  11   8  8.33  9.26  7.81   8.47\n",
       "5           6  14  14  14   8  9.96  8.10  8.84   7.04\n",
       "6           7   6   6   6   8  7.24  6.13  6.08   5.25\n",
       "7           8   4   4   4  19  4.26  3.10  5.39  12.50"
      ]
     },
     "execution_count": 6,
     "metadata": {},
     "output_type": "execute_result"
    }
   ],
   "source": [
    "df.loc[4:7]"
   ]
  },
  {
   "cell_type": "markdown",
   "metadata": {},
   "source": [
    "now, lets isolate two columns, x1 and y1:"
   ]
  },
  {
   "cell_type": "code",
   "execution_count": 7,
   "metadata": {},
   "outputs": [
    {
     "data": {
      "text/html": [
       "<div>\n",
       "<style scoped>\n",
       "    .dataframe tbody tr th:only-of-type {\n",
       "        vertical-align: middle;\n",
       "    }\n",
       "\n",
       "    .dataframe tbody tr th {\n",
       "        vertical-align: top;\n",
       "    }\n",
       "\n",
       "    .dataframe thead th {\n",
       "        text-align: right;\n",
       "    }\n",
       "</style>\n",
       "<table border=\"1\" class=\"dataframe\">\n",
       "  <thead>\n",
       "    <tr style=\"text-align: right;\">\n",
       "      <th></th>\n",
       "      <th>x1</th>\n",
       "      <th>y1</th>\n",
       "    </tr>\n",
       "  </thead>\n",
       "  <tbody>\n",
       "    <tr>\n",
       "      <th>0</th>\n",
       "      <td>10</td>\n",
       "      <td>8.04</td>\n",
       "    </tr>\n",
       "    <tr>\n",
       "      <th>1</th>\n",
       "      <td>8</td>\n",
       "      <td>6.95</td>\n",
       "    </tr>\n",
       "    <tr>\n",
       "      <th>2</th>\n",
       "      <td>13</td>\n",
       "      <td>7.58</td>\n",
       "    </tr>\n",
       "    <tr>\n",
       "      <th>3</th>\n",
       "      <td>9</td>\n",
       "      <td>8.81</td>\n",
       "    </tr>\n",
       "    <tr>\n",
       "      <th>4</th>\n",
       "      <td>11</td>\n",
       "      <td>8.33</td>\n",
       "    </tr>\n",
       "    <tr>\n",
       "      <th>5</th>\n",
       "      <td>14</td>\n",
       "      <td>9.96</td>\n",
       "    </tr>\n",
       "    <tr>\n",
       "      <th>6</th>\n",
       "      <td>6</td>\n",
       "      <td>7.24</td>\n",
       "    </tr>\n",
       "    <tr>\n",
       "      <th>7</th>\n",
       "      <td>4</td>\n",
       "      <td>4.26</td>\n",
       "    </tr>\n",
       "    <tr>\n",
       "      <th>8</th>\n",
       "      <td>12</td>\n",
       "      <td>10.84</td>\n",
       "    </tr>\n",
       "    <tr>\n",
       "      <th>9</th>\n",
       "      <td>7</td>\n",
       "      <td>4.82</td>\n",
       "    </tr>\n",
       "    <tr>\n",
       "      <th>10</th>\n",
       "      <td>5</td>\n",
       "      <td>5.68</td>\n",
       "    </tr>\n",
       "  </tbody>\n",
       "</table>\n",
       "</div>"
      ],
      "text/plain": [
       "    x1     y1\n",
       "0   10   8.04\n",
       "1    8   6.95\n",
       "2   13   7.58\n",
       "3    9   8.81\n",
       "4   11   8.33\n",
       "5   14   9.96\n",
       "6    6   7.24\n",
       "7    4   4.26\n",
       "8   12  10.84\n",
       "9    7   4.82\n",
       "10   5   5.68"
      ]
     },
     "execution_count": 7,
     "metadata": {},
     "output_type": "execute_result"
    }
   ],
   "source": [
    "df.loc[0:10, ['x1', 'y1']]"
   ]
  },
  {
   "cell_type": "code",
   "execution_count": 27,
   "metadata": {},
   "outputs": [
    {
     "data": {
      "text/plain": [
       "<matplotlib.axes._subplots.AxesSubplot at 0x1a26db7ef0>"
      ]
     },
     "execution_count": 27,
     "metadata": {},
     "output_type": "execute_result"
    },
    {
     "data": {
      "image/png": "[encoded data removed]",
      "text/plain": [
       "<Figure size 576x432 with 1 Axes>"
      ]
     },
     "metadata": {},
     "output_type": "display_data"
    }
   ],
   "source": [
    "df.plot.scatter(x='x1', y='y1')"
   ]
  },
  {
   "cell_type": "markdown",
   "metadata": {},
   "source": [
    "## HERE "
   ]
  },
  {
   "cell_type": "markdown",
   "metadata": {},
   "source": [
    "### Visualise"
   ]
  },
  {
   "cell_type": "markdown",
   "metadata": {},
   "source": [
    "### 2 - Plot the interesting aspects of the dataset"
   ]
  },
  {
   "cell_type": "code",
   "execution_count": 26,
   "metadata": {},
   "outputs": [
    {
     "data": {
      "text/plain": [
       "<seaborn.axisgrid.PairGrid at 0x1a24df7400>"
      ]
     },
     "execution_count": 26,
     "metadata": {},
     "output_type": "execute_result"
    },
    {
     "data": {
      "image/png": "[encoded data removed]",
      "text/plain": [
       "<Figure size 1620x1620 with 90 Axes>"
      ]
     },
     "metadata": {},
     "output_type": "display_data"
    }
   ],
   "source": [
    "# Load the Seaborn package\n",
    "import seaborn as sns\n",
    "\n",
    "# plot the datasets with pair plots\n",
    "sns.pairplot(df)"
   ]
  },
  {
   "cell_type": "code",
   "execution_count": 9,
   "metadata": {},
   "outputs": [
    {
     "data": {
      "text/plain": [
       "<seaborn.axisgrid.PairGrid at 0x1a238186a0>"
      ]
     },
     "execution_count": 9,
     "metadata": {},
     "output_type": "execute_result"
    },
    {
     "data": {
      "image/png": "[encoded data removed]",
      "text/plain": [
       "<Figure size 360x360 with 6 Axes>"
      ]
     },
     "metadata": {},
     "output_type": "display_data"
    }
   ],
   "source": [
    "# plot selected cells from the dataset with pair plots\n",
    "sns.pairplot(e)"
   ]
  },
  {
   "cell_type": "markdown",
   "metadata": {},
   "source": [
    "### Task 3 - Calculate the descriptive statistics of the variables in the dataset¶"
   ]
  },
  {
   "cell_type": "code",
   "execution_count": 10,
   "metadata": {},
   "outputs": [
    {
     "data": {
      "text/html": [
       "<div>\n",
       "<style scoped>\n",
       "    .dataframe tbody tr th:only-of-type {\n",
       "        vertical-align: middle;\n",
       "    }\n",
       "\n",
       "    .dataframe tbody tr th {\n",
       "        vertical-align: top;\n",
       "    }\n",
       "\n",
       "    .dataframe thead th {\n",
       "        text-align: right;\n",
       "    }\n",
       "</style>\n",
       "<table border=\"1\" class=\"dataframe\">\n",
       "  <thead>\n",
       "    <tr style=\"text-align: right;\">\n",
       "      <th></th>\n",
       "      <th>Unnamed: 0</th>\n",
       "      <th>x1</th>\n",
       "      <th>x2</th>\n",
       "      <th>x3</th>\n",
       "      <th>x4</th>\n",
       "      <th>y1</th>\n",
       "      <th>y2</th>\n",
       "      <th>y3</th>\n",
       "      <th>y4</th>\n",
       "    </tr>\n",
       "  </thead>\n",
       "  <tbody>\n",
       "    <tr>\n",
       "      <th>count</th>\n",
       "      <td>11.000000</td>\n",
       "      <td>11.000000</td>\n",
       "      <td>11.000000</td>\n",
       "      <td>11.000000</td>\n",
       "      <td>11.000000</td>\n",
       "      <td>11.000000</td>\n",
       "      <td>11.000000</td>\n",
       "      <td>11.000000</td>\n",
       "      <td>11.000000</td>\n",
       "    </tr>\n",
       "    <tr>\n",
       "      <th>mean</th>\n",
       "      <td>6.000000</td>\n",
       "      <td>9.000000</td>\n",
       "      <td>9.000000</td>\n",
       "      <td>9.000000</td>\n",
       "      <td>9.000000</td>\n",
       "      <td>7.500909</td>\n",
       "      <td>7.500909</td>\n",
       "      <td>7.500000</td>\n",
       "      <td>7.500909</td>\n",
       "    </tr>\n",
       "    <tr>\n",
       "      <th>std</th>\n",
       "      <td>3.316625</td>\n",
       "      <td>3.316625</td>\n",
       "      <td>3.316625</td>\n",
       "      <td>3.316625</td>\n",
       "      <td>3.316625</td>\n",
       "      <td>2.031568</td>\n",
       "      <td>2.031657</td>\n",
       "      <td>2.030424</td>\n",
       "      <td>2.030579</td>\n",
       "    </tr>\n",
       "    <tr>\n",
       "      <th>min</th>\n",
       "      <td>1.000000</td>\n",
       "      <td>4.000000</td>\n",
       "      <td>4.000000</td>\n",
       "      <td>4.000000</td>\n",
       "      <td>8.000000</td>\n",
       "      <td>4.260000</td>\n",
       "      <td>3.100000</td>\n",
       "      <td>5.390000</td>\n",
       "      <td>5.250000</td>\n",
       "    </tr>\n",
       "    <tr>\n",
       "      <th>25%</th>\n",
       "      <td>3.500000</td>\n",
       "      <td>6.500000</td>\n",
       "      <td>6.500000</td>\n",
       "      <td>6.500000</td>\n",
       "      <td>8.000000</td>\n",
       "      <td>6.315000</td>\n",
       "      <td>6.695000</td>\n",
       "      <td>6.250000</td>\n",
       "      <td>6.170000</td>\n",
       "    </tr>\n",
       "    <tr>\n",
       "      <th>50%</th>\n",
       "      <td>6.000000</td>\n",
       "      <td>9.000000</td>\n",
       "      <td>9.000000</td>\n",
       "      <td>9.000000</td>\n",
       "      <td>8.000000</td>\n",
       "      <td>7.580000</td>\n",
       "      <td>8.140000</td>\n",
       "      <td>7.110000</td>\n",
       "      <td>7.040000</td>\n",
       "    </tr>\n",
       "    <tr>\n",
       "      <th>75%</th>\n",
       "      <td>8.500000</td>\n",
       "      <td>11.500000</td>\n",
       "      <td>11.500000</td>\n",
       "      <td>11.500000</td>\n",
       "      <td>8.000000</td>\n",
       "      <td>8.570000</td>\n",
       "      <td>8.950000</td>\n",
       "      <td>7.980000</td>\n",
       "      <td>8.190000</td>\n",
       "    </tr>\n",
       "    <tr>\n",
       "      <th>max</th>\n",
       "      <td>11.000000</td>\n",
       "      <td>14.000000</td>\n",
       "      <td>14.000000</td>\n",
       "      <td>14.000000</td>\n",
       "      <td>19.000000</td>\n",
       "      <td>10.840000</td>\n",
       "      <td>9.260000</td>\n",
       "      <td>12.740000</td>\n",
       "      <td>12.500000</td>\n",
       "    </tr>\n",
       "  </tbody>\n",
       "</table>\n",
       "</div>"
      ],
      "text/plain": [
       "       Unnamed: 0         x1         x2         x3         x4         y1  \\\n",
       "count   11.000000  11.000000  11.000000  11.000000  11.000000  11.000000   \n",
       "mean     6.000000   9.000000   9.000000   9.000000   9.000000   7.500909   \n",
       "std      3.316625   3.316625   3.316625   3.316625   3.316625   2.031568   \n",
       "min      1.000000   4.000000   4.000000   4.000000   8.000000   4.260000   \n",
       "25%      3.500000   6.500000   6.500000   6.500000   8.000000   6.315000   \n",
       "50%      6.000000   9.000000   9.000000   9.000000   8.000000   7.580000   \n",
       "75%      8.500000  11.500000  11.500000  11.500000   8.000000   8.570000   \n",
       "max     11.000000  14.000000  14.000000  14.000000  19.000000  10.840000   \n",
       "\n",
       "              y2         y3         y4  \n",
       "count  11.000000  11.000000  11.000000  \n",
       "mean    7.500909   7.500000   7.500909  \n",
       "std     2.031657   2.030424   2.030579  \n",
       "min     3.100000   5.390000   5.250000  \n",
       "25%     6.695000   6.250000   6.170000  \n",
       "50%     8.140000   7.110000   7.040000  \n",
       "75%     8.950000   7.980000   8.190000  \n",
       "max     9.260000  12.740000  12.500000  "
      ]
     },
     "execution_count": 10,
     "metadata": {},
     "output_type": "execute_result"
    }
   ],
   "source": [
    "df.describe()"
   ]
  },
  {
   "cell_type": "markdown",
   "metadata": {},
   "source": [
    "##### that's an array of all four datasets. lets pick one and plot it."
   ]
  },
  {
   "cell_type": "code",
   "execution_count": 11,
   "metadata": {},
   "outputs": [
    {
     "data": {
      "text/html": [
       "<div>\n",
       "<style scoped>\n",
       "    .dataframe tbody tr th:only-of-type {\n",
       "        vertical-align: middle;\n",
       "    }\n",
       "\n",
       "    .dataframe tbody tr th {\n",
       "        vertical-align: top;\n",
       "    }\n",
       "\n",
       "    .dataframe thead th {\n",
       "        text-align: right;\n",
       "    }\n",
       "</style>\n",
       "<table border=\"1\" class=\"dataframe\">\n",
       "  <thead>\n",
       "    <tr style=\"text-align: right;\">\n",
       "      <th></th>\n",
       "      <th>x1</th>\n",
       "      <th>y1</th>\n",
       "    </tr>\n",
       "  </thead>\n",
       "  <tbody>\n",
       "    <tr>\n",
       "      <th>0</th>\n",
       "      <td>10</td>\n",
       "      <td>8.04</td>\n",
       "    </tr>\n",
       "    <tr>\n",
       "      <th>1</th>\n",
       "      <td>8</td>\n",
       "      <td>6.95</td>\n",
       "    </tr>\n",
       "    <tr>\n",
       "      <th>2</th>\n",
       "      <td>13</td>\n",
       "      <td>7.58</td>\n",
       "    </tr>\n",
       "    <tr>\n",
       "      <th>3</th>\n",
       "      <td>9</td>\n",
       "      <td>8.81</td>\n",
       "    </tr>\n",
       "    <tr>\n",
       "      <th>4</th>\n",
       "      <td>11</td>\n",
       "      <td>8.33</td>\n",
       "    </tr>\n",
       "    <tr>\n",
       "      <th>5</th>\n",
       "      <td>14</td>\n",
       "      <td>9.96</td>\n",
       "    </tr>\n",
       "    <tr>\n",
       "      <th>6</th>\n",
       "      <td>6</td>\n",
       "      <td>7.24</td>\n",
       "    </tr>\n",
       "    <tr>\n",
       "      <th>7</th>\n",
       "      <td>4</td>\n",
       "      <td>4.26</td>\n",
       "    </tr>\n",
       "    <tr>\n",
       "      <th>8</th>\n",
       "      <td>12</td>\n",
       "      <td>10.84</td>\n",
       "    </tr>\n",
       "    <tr>\n",
       "      <th>9</th>\n",
       "      <td>7</td>\n",
       "      <td>4.82</td>\n",
       "    </tr>\n",
       "    <tr>\n",
       "      <th>10</th>\n",
       "      <td>5</td>\n",
       "      <td>5.68</td>\n",
       "    </tr>\n",
       "  </tbody>\n",
       "</table>\n",
       "</div>"
      ],
      "text/plain": [
       "    x1     y1\n",
       "0   10   8.04\n",
       "1    8   6.95\n",
       "2   13   7.58\n",
       "3    9   8.81\n",
       "4   11   8.33\n",
       "5   14   9.96\n",
       "6    6   7.24\n",
       "7    4   4.26\n",
       "8   12  10.84\n",
       "9    7   4.82\n",
       "10   5   5.68"
      ]
     },
     "execution_count": 11,
     "metadata": {},
     "output_type": "execute_result"
    }
   ],
   "source": [
    "e = df[['x1', 'y1']]\n",
    "e"
   ]
  },
  {
   "cell_type": "markdown",
   "metadata": {},
   "source": [
    "### Task 4 (of 4) - why the dataset is interesting, referring to the plots and statistics above\n",
    "\n",
    "What's interesting about the Anscombe dataset is that while it consists of four datasets that have identical summary statistics (e.g., mean, standard deviation, and correlation), they produce quite dissimilar data graphics (scatterplots)."
   ]
  },
  {
   "cell_type": "markdown",
   "metadata": {},
   "source": [
    "# Simple Linear Regression with NumPy"
   ]
  },
  {
   "cell_type": "markdown",
   "metadata": {},
   "source": [
    "In school, students are taught to draw lines like the following :       y = 2 x + 1\n",
    "\n",
    "They're taught to pick two values for x and calculate the corresponding values for y using the equation. Then they draw a set of axes, plot the points, and then draw a line extending through the two dots on their axes."
   ]
  },
  {
   "cell_type": "code",
   "execution_count": 12,
   "metadata": {},
   "outputs": [
    {
     "data": {
      "image/png": "[encoded data removed]",
      "text/plain": [
       "<Figure size 432x288 with 1 Axes>"
      ]
     },
     "metadata": {},
     "output_type": "display_data"
    }
   ],
   "source": [
    "import matplotlib.pyplot as plt\n",
    "\n",
    "# Draw some axes.\n",
    "plt.plot([-1, 10], [0, 0], 'k-')\n",
    "plt.plot([0, 0], [-1, 10], 'k-')\n",
    "\n",
    "# Plot the red, blue and green lines.\n",
    "plt.plot([1, 1], [-1, 3], 'b:')\n",
    "plt.plot([-1, 1], [3, 3], 'r:')\n",
    " \n",
    "# Plot the two points (1,3) and (2,5).\n",
    "plt.plot([1, 2], [3, 5], 'ko')\n",
    "# Join them with an (extending) green lines.\n",
    "plt.plot([-1, 10], [-1, 21], 'g-')\n",
    "    \n",
    "# Set some reasonable plot limits.\n",
    "plt.xlim([-1, 10])\n",
    "plt.ylim([-1, 10])\n",
    "\n",
    "# Show the plot.\n",
    "plt.show()"
   ]
  },
  {
   "cell_type": "markdown",
   "metadata": {},
   "source": [
    "But Simple linear regression is about the opposite problem - what if you have some points and are looking for the equation? It's easy when the points are perfectly on a line already, but usually real-world data has some noise. The data might still look roughly linear, but aren't exactly so."
   ]
  },
  {
   "cell_type": "markdown",
   "metadata": {},
   "source": [
    "## Example (contrived and simulated)"
   ]
  },
  {
   "cell_type": "markdown",
   "metadata": {},
   "source": [
    "Suppose you are trying to weigh your suitcase to avoid an airline's extra charges. You don't have a weighing scales, but you do have a spring and some gym-style weights of masses 7KG, 14KG and 21KG.\n",
    "\n",
    "You attach the spring to the wall hook, and mark where the bottom of it hangs. You then hang the 7KG weight on the end and mark where the bottom of the spring is. You repeat this with the 14KG weight and the 21KG weight. Finally, you place your case hanging on the spring, and the spring hangs down halfway between the 7KG mark and the 14KG mark.\n",
    "\n",
    "Is your case over the 10KG limit set by the airline?\"\n",
    "\n",
    "\n",
    "#### Hypothesis\n",
    "When you look at the marks on the wall, it seems that the 0KG, 7KG, 14KG and 21KG marks are evenly spaced. You wonder if that means your case weighs 10.5KG.\n",
    "\n",
    "That is, you wonder if there is a *linear* relationship between the distance the spring's hook is from its resting position, and the mass on the end of it.\n",
    "\n",
    "#### Experiment\n",
    "You decide to experiment. You buy some new weights - a 1KG, a 2KG, a 3Kg, all the way up to 20KG. You place them each in turn on the spring and measure the distance the spring moves from the resting position. You tabulate the data and plot them.\n",
    "\n",
    "#### Analysis\n",
    "Here we'll import the Python libraries we need for or investigations below.\n",
    "   "
   ]
  },
  {
   "cell_type": "code",
   "execution_count": 13,
   "metadata": {},
   "outputs": [],
   "source": [
    "# Make matplotlib show interactive plots in the notebook.\n",
    "%matplotlib inline"
   ]
  },
  {
   "cell_type": "code",
   "execution_count": 14,
   "metadata": {},
   "outputs": [],
   "source": [
    "# numpy efficiently deals with numerical multi-dimensional arrays.\\n\",\n",
    "import numpy as np\n",
    "\n",
    "# matplotlib is a plotting library, and pyplot is its easy-to-use module.\\n\",\n",
    "import matplotlib.pyplot as plt\n",
    "\n",
    "# This just sets the default plot size to be bigger.\n",
    "plt.rcParams['figure.figsize'] = (8, 6)\n"
   ]
  },
  {
   "cell_type": "markdown",
   "metadata": {},
   "source": [
    "Ignore the next couple of lines where I fake up some data. I'll use the fact that I faked the data to explain some results later. Just pretend that w is an array containing the weight values and d are the corresponding distance measurements."
   ]
  },
  {
   "cell_type": "code",
   "execution_count": 15,
   "metadata": {},
   "outputs": [],
   "source": [
    "w = np.arange(0.0, 21.0, 1.0)\n",
    "d = 5.0 * w + 10.0 + np.random.normal(0.0, 5.0, w.size)"
   ]
  },
  {
   "cell_type": "code",
   "execution_count": 16,
   "metadata": {},
   "outputs": [
    {
     "data": {
      "text/plain": [
       "array([ 0.,  1.,  2.,  3.,  4.,  5.,  6.,  7.,  8.,  9., 10., 11., 12.,\n",
       "       13., 14., 15., 16., 17., 18., 19., 20.])"
      ]
     },
     "execution_count": 16,
     "metadata": {},
     "output_type": "execute_result"
    }
   ],
   "source": [
    "#lets have a look at w\n",
    "w"
   ]
  },
  {
   "cell_type": "code",
   "execution_count": 17,
   "metadata": {},
   "outputs": [
    {
     "data": {
      "text/plain": [
       "array([  4.51214317,  13.08223965,  11.74060885,  29.95182708,\n",
       "        31.56704992,  38.72225126,  38.42043576,  45.13058942,\n",
       "        55.27013253,  52.073177  ,  64.73185168,  65.62204692,\n",
       "        75.82314081,  65.68295918,  89.50182766,  75.55434909,\n",
       "        87.6270564 ,  98.75309672,  96.71771577,  98.37956582,\n",
       "       109.0936031 ])"
      ]
     },
     "execution_count": 17,
     "metadata": {},
     "output_type": "execute_result"
    }
   ],
   "source": [
    "#lets have a look at d\n",
    "d"
   ]
  },
  {
   "cell_type": "markdown",
   "metadata": {},
   "source": [
    "#### lets have a look at the data from our experiment"
   ]
  },
  {
   "cell_type": "code",
   "execution_count": 18,
   "metadata": {},
   "outputs": [
    {
     "data": {
      "image/png": "[encoded data removed]",
      "text/plain": [
       "<Figure size 576x432 with 1 Axes>"
      ]
     },
     "metadata": {},
     "output_type": "display_data"
    }
   ],
   "source": [
    "#Create the plot.\n",
    "\n",
    "plt.plot(w, d, 'k.')\n",
    " \n",
    "# Set some properties for the plot.\\n\",\n",
    "plt.xlabel('Weight (KG)')\n",
    "plt.ylabel('Distance (CM)')\n",
    "\n",
    "# Show the plot.\n",
    "plt.show()\n"
   ]
  },
  {
   "cell_type": "markdown",
   "metadata": {},
   "source": [
    "#### Model\n",
    "It looks like the data might indeed be linear. The points don't exactly fit on a straight line, but they are not far off it. We might put that down to some other factors, such as the air density, or errors, such as in our tape measure.  Then we can go ahead and see what would be the best line to fit the data.\n"
   ]
  },
  {
   "cell_type": "markdown",
   "metadata": {},
   "source": [
    "#### Straight lines\n",
    "All straight lines can be expressed in the form y = mx + c. The number m is the slope of the line. The slope is how much y increases by when x is increased by 1.0.\n",
    "\n",
    "The number c is the y-intercept of the line. It's the value of $y$ when $x$ is 0."
   ]
  },
  {
   "cell_type": "markdown",
   "metadata": {},
   "source": [
    "#### Fitting the model\n",
    "\n",
    "To fit a straight line to the data, we just must pick values for m and c.These are called the parameters of the model,and we want to pick the best values possible for the parameters. That is, the best parameter values *given* the data observed. Below we show various lines plotted over the data, with different values for m and c."
   ]
  },
  {
   "cell_type": "code",
   "execution_count": 19,
   "metadata": {},
   "outputs": [
    {
     "data": {
      "image/png": "[encoded data removed]",
      "text/plain": [
       "<Figure size 576x432 with 1 Axes>"
      ]
     },
     "metadata": {},
     "output_type": "display_data"
    }
   ],
   "source": [
    "# Plot w versus d with black dots.\n",
    "plt.plot(w, d, 'k.', label=\"Data\")\n",
    "# Overlay some lines on the plot.\n",
    "x = np.arange(0.0, 21.0, 1.0)\n",
    "plt.plot(x, 5.0 * x + 10.0, 'r-', label=r\"$5x + 10$\")\n",
    "plt.plot(x, 6.0 * x +  5.0, 'g-', label=r\"$6x +  5$\")\n",
    "plt.plot(x, 5.0 * x + 15.0, 'b-', label=r\"$5x + 15$\")\n",
    "    \n",
    "# Add a legend.\n",
    "plt.legend()\n",
    "    \n",
    "# Add axis labels.\n",
    "plt.xlabel('Weight (KG)')\n",
    "plt.ylabel('Distance (CM)')\n",
    "\n",
    "# Show the plot.\n",
    "plt.show()"
   ]
  },
  {
   "cell_type": "markdown",
   "metadata": {},
   "source": [
    "### Calculating the cost\n",
    "You can see that each of these lines roughly fits the data. Which one is best, and is there another line that is better than all three? Is there a \"best\" line?\n",
    "    \n",
    "It depends how you define the word best. Luckily, everyone seems to have settled on what the best means. The best line is the one that minimises the following calculated value:\n",
    "\n",
    "$$ sum_i (y_i - mx_i - c)^2 $$\n",
    "\n",
    "Here $(x_i, y_i)$ is the $i^{th}$ point in the data set and sum_i means to sum over all points. The values of $m$ and $c$ are to be determined. We usually denote the above as Cost(m, c).\n",
    "  \n",
    "Where does the above calculation come from? It's easy to explain the part in the brackets $(y_i - mx_i - c)$. The corresponding value to $x_i$ in the dataset is $y_i$. These are the measured values.\n",
    "\n",
    "The value $m x_i + c$ is what the model says $y_i$ should have been.\n",
    "The difference between  the value that was observed ($y_i$) and the value that the model gives ($m x_i + c$), is $y_i - mx_i - c$.\n",
    "  \n",
    "Why square that value?\n",
    "Well note that the value could be positive or negative, and you sum over all of these values.\n",
    "If we allow the values to be positive or negative, then the positive could cancel the negatives.\n",
    "So, the natural thing to do is to take the absolute value $mid y_i - m x_i - c mid$.\n",
    "\n",
    "Well it turns out that absolute values are a pain to deal with, and instead it was decided to just square the quantity instead, as the square of a number is always positive.\n",
    "There are pros and cons to using the square instead of the absolute value, but the square is used.\n",
    "\n",
    "This is usually called *least squares* fitting."
   ]
  },
  {
   "cell_type": "code",
   "execution_count": 20,
   "metadata": {},
   "outputs": [
    {
     "name": "stdout",
     "output_type": "stream",
     "text": [
      "Cost with m =  5.00 and c = 10.00:   579.84\n",
      "Cost with m =  6.00 and c =  5.00:  2063.11\n",
      "Cost with m =  5.00 and c = 15.00:  1225.26\n"
     ]
    }
   ],
   "source": [
    "# Calculate the cost of the lines above for the data above.\n",
    "cost = lambda m,c: np.sum([(d[i] - m * w[i] - c)**2 for i in range(w.size)])\n",
    "print(\"Cost with m = %5.2f and c = %5.2f: %8.2f\" % (5.0, 10.0, cost(5.0, 10.0)))\n",
    "print(\"Cost with m = %5.2f and c = %5.2f: %8.2f\" % (6.0,  5.0, cost(6.0,  5.0)))\n",
    "print(\"Cost with m = %5.2f and c = %5.2f: %8.2f\" % (5.0, 15.0, cost(5.0, 15.0)))"
   ]
  },
  {
   "cell_type": "markdown",
   "metadata": {},
   "source": [
    "#### Minimising the cost\n",
    "\n",
    "We want to calculate values of $m$ and $c$ that give the lowest value for the cost value above. For our given data set we can plot the cost value/function. Recall that the cost is:\n",
    "\n",
    "$$ Cost(m, c) = \\\\sum_i (y_i - mx_i - c)^2 $$\n",
    "\n",
    "This is a function of two variables, $m$ and $c$, so a plot of it is three dimensional. See the **Advanced** section below for the plot.\n",
    "   \n",
    "In the case of fitting a two-dimensional line to a few data points, we can easily calculate exactly the best values of $m$ and $c$. Some of the details are discussed in the **Advanced** section, as they involve calculus, but the resulting code is straight-forward.\n",
    "\n",
    "We first calculate the mean (average) values of our $x$ values and that of our $y$ values. Then we subtract the mean of $x$ from each of the $x$ values, and the mean of $y$ from each of the $y$ values. Then we take the *dot product* of the new $x$ values and the new $y$ values and divide it by the dot product of the new $x$ values with themselves. That gives us $m$, and we use $m$ to calculate $c$.\n",
    "\n",
    "Remember that in our dataset $x$ is called $w$ (for weight) and $y$ is called $d$ (for distance). We calculate $m$ and $c$ below."
   ]
  },
  {
   "cell_type": "code",
   "execution_count": 21,
   "metadata": {},
   "outputs": [
    {
     "name": "stdout",
     "output_type": "stream",
     "text": [
      "m is 4.955941 and c is 9.867148.\n"
     ]
    }
   ],
   "source": [
    "# Calculate the best values for m and c.\n",
    "#First calculate the means (a.k.a. averages) of w and d.\n",
    "w_avg = np.mean(w)\n",
    "d_avg = np.mean(d)\n",
    "\n",
    "# Subtract means from w and d.\n",
    "w_zero = w - w_avg\n",
    "d_zero = d - d_avg\n",
    "\n",
    "# The best m is found by the following calculation.\n",
    "m = np.sum(w_zero * d_zero) / np.sum(w_zero * w_zero)\n",
    "# Use m from above to calculate the best c.\n",
    "c = d_avg - m * w_avg\n",
    "print(\"m is %8.6f and c is %6.6f.\" % (m, c))"
   ]
  },
  {
   "cell_type": "markdown",
   "metadata": {},
   "source": [
    "#### Best fit line\n",
    "So, the best values for m and c given our data and using least squares fitting are about 4.95 for m and about 11.13 for c. We plot this line on top of the data below."
   ]
  },
  {
   "cell_type": "code",
   "execution_count": 22,
   "metadata": {},
   "outputs": [
    {
     "data": {
      "image/png": "[encoded data removed]",
      "text/plain": [
       "<Figure size 576x432 with 1 Axes>"
      ]
     },
     "metadata": {},
     "output_type": "display_data"
    }
   ],
   "source": [
    "# Plot the best fit line.\n",
    "plt.plot(w, d, 'k.', label='Original data')\n",
    "plt.plot(w, m * w + c, 'b-', label='Best fit line')\n",
    "\n",
    "# Add axis labels and a legend.\n",
    "plt.xlabel('Weight (KG)')\n",
    "plt.ylabel('Distance (CM)')\n",
    "plt.legend()\n",
    "\n",
    "# Show the plot.\n",
    "plt.show()"
   ]
  },
  {
   "cell_type": "markdown",
   "metadata": {},
   "source": [
    "Note that the Cost of the best m and best c is not zero in this case."
   ]
  },
  {
   "cell_type": "code",
   "execution_count": 23,
   "metadata": {},
   "outputs": [
    {
     "name": "stdout",
     "output_type": "stream",
     "text": [
      "Cost with m =  4.96 and c =  9.87:   571.44\n"
     ]
    }
   ],
   "source": [
    "print(\"Cost with m = %5.2f and c = %5.2f: %8.2f\" % (m, c, cost(m, c)))"
   ]
  },
  {
   "cell_type": "markdown",
   "metadata": {},
   "source": [
    "### Summary\n",
    "In this notebook we:\n",
    "1. Investigated the data.\n",
    "2. Picked a model.\n",
    "3. Picked a cost function.\n",
    "4. Estimated the model parameter values that minimised our cost function."
   ]
  },
  {
   "cell_type": "code",
   "execution_count": null,
   "metadata": {},
   "outputs": [],
   "source": []
  }
 ],
 "metadata": {
  "kernelspec": {
   "display_name": "Python 3",
   "language": "python",
   "name": "python3"
  },
  "language_info": {
   "codemirror_mode": {
    "name": "ipython",
    "version": 3
   },
   "file_extension": ".py",
   "mimetype": "text/x-python",
   "name": "python",
   "nbconvert_exporter": "python",
   "pygments_lexer": "ipython3",
   "version": "3.6.5"
  }
 },
 "nbformat": 4,
 "nbformat_minor": 2
}
